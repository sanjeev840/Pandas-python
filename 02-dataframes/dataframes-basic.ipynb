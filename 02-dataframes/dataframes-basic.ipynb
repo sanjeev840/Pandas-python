{
 "cells": [
  {
   "cell_type": "code",
   "execution_count": 1,
   "id": "9e1ed668",
   "metadata": {
    "execution": {
     "iopub.execute_input": "2025-07-25T06:24:10.409388Z",
     "iopub.status.busy": "2025-07-25T06:24:10.409065Z",
     "iopub.status.idle": "2025-07-25T06:24:12.376119Z",
     "shell.execute_reply": "2025-07-25T06:24:12.375128Z"
    },
    "papermill": {
     "duration": 1.978038,
     "end_time": "2025-07-25T06:24:12.377990",
     "exception": false,
     "start_time": "2025-07-25T06:24:10.399952",
     "status": "completed"
    },
    "tags": []
   },
   "outputs": [
    {
     "data": {
      "text/html": [
       "<div>\n",
       "<style scoped>\n",
       "    .dataframe tbody tr th:only-of-type {\n",
       "        vertical-align: middle;\n",
       "    }\n",
       "\n",
       "    .dataframe tbody tr th {\n",
       "        vertical-align: top;\n",
       "    }\n",
       "\n",
       "    .dataframe thead th {\n",
       "        text-align: right;\n",
       "    }\n",
       "</style>\n",
       "<table border=\"1\" class=\"dataframe\">\n",
       "  <thead>\n",
       "    <tr style=\"text-align: right;\">\n",
       "      <th></th>\n",
       "      <th>day</th>\n",
       "      <th>temperature</th>\n",
       "      <th>windspeed</th>\n",
       "      <th>event</th>\n",
       "    </tr>\n",
       "  </thead>\n",
       "  <tbody>\n",
       "    <tr>\n",
       "      <th>0</th>\n",
       "      <td>1/1/2017</td>\n",
       "      <td>32</td>\n",
       "      <td>6</td>\n",
       "      <td>Rain</td>\n",
       "    </tr>\n",
       "    <tr>\n",
       "      <th>1</th>\n",
       "      <td>1/2/2017</td>\n",
       "      <td>35</td>\n",
       "      <td>7</td>\n",
       "      <td>Sunny</td>\n",
       "    </tr>\n",
       "    <tr>\n",
       "      <th>2</th>\n",
       "      <td>1/3/2017</td>\n",
       "      <td>28</td>\n",
       "      <td>2</td>\n",
       "      <td>Snow</td>\n",
       "    </tr>\n",
       "    <tr>\n",
       "      <th>3</th>\n",
       "      <td>1/4/2017</td>\n",
       "      <td>24</td>\n",
       "      <td>7</td>\n",
       "      <td>Snow</td>\n",
       "    </tr>\n",
       "    <tr>\n",
       "      <th>4</th>\n",
       "      <td>1/5/2017</td>\n",
       "      <td>32</td>\n",
       "      <td>4</td>\n",
       "      <td>Rain</td>\n",
       "    </tr>\n",
       "    <tr>\n",
       "      <th>5</th>\n",
       "      <td>1/6/2017</td>\n",
       "      <td>31</td>\n",
       "      <td>2</td>\n",
       "      <td>Sunny</td>\n",
       "    </tr>\n",
       "  </tbody>\n",
       "</table>\n",
       "</div>"
      ],
      "text/plain": [
       "        day  temperature  windspeed  event\n",
       "0  1/1/2017           32          6   Rain\n",
       "1  1/2/2017           35          7  Sunny\n",
       "2  1/3/2017           28          2   Snow\n",
       "3  1/4/2017           24          7   Snow\n",
       "4  1/5/2017           32          4   Rain\n",
       "5  1/6/2017           31          2  Sunny"
      ]
     },
     "execution_count": 1,
     "metadata": {},
     "output_type": "execute_result"
    }
   ],
   "source": [
    "import pandas as pd\n",
    "df = pd.read_csv('/kaggle/input/weather-data-csv/weather_data.csv')\n",
    "df"
   ]
  },
  {
   "cell_type": "code",
   "execution_count": 2,
   "id": "cff086c4",
   "metadata": {
    "execution": {
     "iopub.execute_input": "2025-07-25T06:24:12.393309Z",
     "iopub.status.busy": "2025-07-25T06:24:12.393011Z",
     "iopub.status.idle": "2025-07-25T06:24:12.399606Z",
     "shell.execute_reply": "2025-07-25T06:24:12.398529Z"
    },
    "papermill": {
     "duration": 0.016049,
     "end_time": "2025-07-25T06:24:12.401509",
     "exception": false,
     "start_time": "2025-07-25T06:24:12.385460",
     "status": "completed"
    },
    "tags": []
   },
   "outputs": [],
   "source": [
    "weather_data = {\n",
    "    'day': ['1/1/2017','1/2/2017','1/3/2017','1/4/2017','1/5/2017','1/6/2017'],\n",
    "    'temperature': [32,35,28,24,32,31],\n",
    "    'windspeed': [6,7,2,7,4,2],\n",
    "    'event': ['Rain', 'Sunny', 'Snow','Snow','Rain', 'Sunny']\n",
    "}\n",
    "df1 = pd.DataFrame(weather_data)"
   ]
  },
  {
   "cell_type": "code",
   "execution_count": 3,
   "id": "23035759",
   "metadata": {
    "execution": {
     "iopub.execute_input": "2025-07-25T06:24:12.416831Z",
     "iopub.status.busy": "2025-07-25T06:24:12.416488Z",
     "iopub.status.idle": "2025-07-25T06:24:12.426291Z",
     "shell.execute_reply": "2025-07-25T06:24:12.425223Z"
    },
    "papermill": {
     "duration": 0.019594,
     "end_time": "2025-07-25T06:24:12.428237",
     "exception": false,
     "start_time": "2025-07-25T06:24:12.408643",
     "status": "completed"
    },
    "tags": []
   },
   "outputs": [
    {
     "data": {
      "text/html": [
       "<div>\n",
       "<style scoped>\n",
       "    .dataframe tbody tr th:only-of-type {\n",
       "        vertical-align: middle;\n",
       "    }\n",
       "\n",
       "    .dataframe tbody tr th {\n",
       "        vertical-align: top;\n",
       "    }\n",
       "\n",
       "    .dataframe thead th {\n",
       "        text-align: right;\n",
       "    }\n",
       "</style>\n",
       "<table border=\"1\" class=\"dataframe\">\n",
       "  <thead>\n",
       "    <tr style=\"text-align: right;\">\n",
       "      <th></th>\n",
       "      <th>day</th>\n",
       "      <th>temperature</th>\n",
       "      <th>windspeed</th>\n",
       "      <th>event</th>\n",
       "    </tr>\n",
       "  </thead>\n",
       "  <tbody>\n",
       "    <tr>\n",
       "      <th>0</th>\n",
       "      <td>1/1/2017</td>\n",
       "      <td>32</td>\n",
       "      <td>6</td>\n",
       "      <td>Rain</td>\n",
       "    </tr>\n",
       "    <tr>\n",
       "      <th>1</th>\n",
       "      <td>1/2/2017</td>\n",
       "      <td>35</td>\n",
       "      <td>7</td>\n",
       "      <td>Sunny</td>\n",
       "    </tr>\n",
       "    <tr>\n",
       "      <th>2</th>\n",
       "      <td>1/3/2017</td>\n",
       "      <td>28</td>\n",
       "      <td>2</td>\n",
       "      <td>Snow</td>\n",
       "    </tr>\n",
       "    <tr>\n",
       "      <th>3</th>\n",
       "      <td>1/4/2017</td>\n",
       "      <td>24</td>\n",
       "      <td>7</td>\n",
       "      <td>Snow</td>\n",
       "    </tr>\n",
       "    <tr>\n",
       "      <th>4</th>\n",
       "      <td>1/5/2017</td>\n",
       "      <td>32</td>\n",
       "      <td>4</td>\n",
       "      <td>Rain</td>\n",
       "    </tr>\n",
       "    <tr>\n",
       "      <th>5</th>\n",
       "      <td>1/6/2017</td>\n",
       "      <td>31</td>\n",
       "      <td>2</td>\n",
       "      <td>Sunny</td>\n",
       "    </tr>\n",
       "  </tbody>\n",
       "</table>\n",
       "</div>"
      ],
      "text/plain": [
       "        day  temperature  windspeed  event\n",
       "0  1/1/2017           32          6   Rain\n",
       "1  1/2/2017           35          7  Sunny\n",
       "2  1/3/2017           28          2   Snow\n",
       "3  1/4/2017           24          7   Snow\n",
       "4  1/5/2017           32          4   Rain\n",
       "5  1/6/2017           31          2  Sunny"
      ]
     },
     "execution_count": 3,
     "metadata": {},
     "output_type": "execute_result"
    }
   ],
   "source": [
    "df1"
   ]
  },
  {
   "cell_type": "markdown",
   "id": "d6d99bcd",
   "metadata": {
    "papermill": {
     "duration": 0.006424,
     "end_time": "2025-07-25T06:24:12.442622",
     "exception": false,
     "start_time": "2025-07-25T06:24:12.436198",
     "status": "completed"
    },
    "tags": []
   },
   "source": [
    "**Shape means the dimention of dataframe. it shows rows and column value**"
   ]
  },
  {
   "cell_type": "code",
   "execution_count": 4,
   "id": "083ef086",
   "metadata": {
    "execution": {
     "iopub.execute_input": "2025-07-25T06:24:12.457578Z",
     "iopub.status.busy": "2025-07-25T06:24:12.457216Z",
     "iopub.status.idle": "2025-07-25T06:24:12.463508Z",
     "shell.execute_reply": "2025-07-25T06:24:12.462539Z"
    },
    "papermill": {
     "duration": 0.015673,
     "end_time": "2025-07-25T06:24:12.464974",
     "exception": false,
     "start_time": "2025-07-25T06:24:12.449301",
     "status": "completed"
    },
    "tags": []
   },
   "outputs": [
    {
     "data": {
      "text/plain": [
       "(6, 4)"
      ]
     },
     "execution_count": 4,
     "metadata": {},
     "output_type": "execute_result"
    }
   ],
   "source": [
    "df.shape"
   ]
  },
  {
   "cell_type": "code",
   "execution_count": 5,
   "id": "731be75d",
   "metadata": {
    "execution": {
     "iopub.execute_input": "2025-07-25T06:24:12.480591Z",
     "iopub.status.busy": "2025-07-25T06:24:12.479544Z",
     "iopub.status.idle": "2025-07-25T06:24:12.484521Z",
     "shell.execute_reply": "2025-07-25T06:24:12.483602Z"
    },
    "papermill": {
     "duration": 0.014512,
     "end_time": "2025-07-25T06:24:12.486224",
     "exception": false,
     "start_time": "2025-07-25T06:24:12.471712",
     "status": "completed"
    },
    "tags": []
   },
   "outputs": [],
   "source": [
    "rows, columns = df.shape "
   ]
  },
  {
   "cell_type": "code",
   "execution_count": 6,
   "id": "09338ea6",
   "metadata": {
    "execution": {
     "iopub.execute_input": "2025-07-25T06:24:12.501846Z",
     "iopub.status.busy": "2025-07-25T06:24:12.501480Z",
     "iopub.status.idle": "2025-07-25T06:24:12.507204Z",
     "shell.execute_reply": "2025-07-25T06:24:12.506387Z"
    },
    "papermill": {
     "duration": 0.015487,
     "end_time": "2025-07-25T06:24:12.508764",
     "exception": false,
     "start_time": "2025-07-25T06:24:12.493277",
     "status": "completed"
    },
    "tags": []
   },
   "outputs": [
    {
     "data": {
      "text/plain": [
       "6"
      ]
     },
     "execution_count": 6,
     "metadata": {},
     "output_type": "execute_result"
    }
   ],
   "source": [
    "rows\n"
   ]
  },
  {
   "cell_type": "code",
   "execution_count": 7,
   "id": "b1deb8a6",
   "metadata": {
    "execution": {
     "iopub.execute_input": "2025-07-25T06:24:12.525246Z",
     "iopub.status.busy": "2025-07-25T06:24:12.524183Z",
     "iopub.status.idle": "2025-07-25T06:24:12.530469Z",
     "shell.execute_reply": "2025-07-25T06:24:12.529497Z"
    },
    "papermill": {
     "duration": 0.016202,
     "end_time": "2025-07-25T06:24:12.532072",
     "exception": false,
     "start_time": "2025-07-25T06:24:12.515870",
     "status": "completed"
    },
    "tags": []
   },
   "outputs": [
    {
     "data": {
      "text/plain": [
       "4"
      ]
     },
     "execution_count": 7,
     "metadata": {},
     "output_type": "execute_result"
    }
   ],
   "source": [
    "columns"
   ]
  },
  {
   "cell_type": "markdown",
   "id": "bf95a57e",
   "metadata": {
    "papermill": {
     "duration": 0.00686,
     "end_time": "2025-07-25T06:24:12.546278",
     "exception": false,
     "start_time": "2025-07-25T06:24:12.539418",
     "status": "completed"
    },
    "tags": []
   },
   "source": [
    "show  some of the rows in the dataframs"
   ]
  },
  {
   "cell_type": "code",
   "execution_count": 8,
   "id": "3fb65324",
   "metadata": {
    "execution": {
     "iopub.execute_input": "2025-07-25T06:24:12.561618Z",
     "iopub.status.busy": "2025-07-25T06:24:12.561299Z",
     "iopub.status.idle": "2025-07-25T06:24:12.571246Z",
     "shell.execute_reply": "2025-07-25T06:24:12.570284Z"
    },
    "papermill": {
     "duration": 0.019913,
     "end_time": "2025-07-25T06:24:12.573178",
     "exception": false,
     "start_time": "2025-07-25T06:24:12.553265",
     "status": "completed"
    },
    "tags": []
   },
   "outputs": [
    {
     "data": {
      "text/html": [
       "<div>\n",
       "<style scoped>\n",
       "    .dataframe tbody tr th:only-of-type {\n",
       "        vertical-align: middle;\n",
       "    }\n",
       "\n",
       "    .dataframe tbody tr th {\n",
       "        vertical-align: top;\n",
       "    }\n",
       "\n",
       "    .dataframe thead th {\n",
       "        text-align: right;\n",
       "    }\n",
       "</style>\n",
       "<table border=\"1\" class=\"dataframe\">\n",
       "  <thead>\n",
       "    <tr style=\"text-align: right;\">\n",
       "      <th></th>\n",
       "      <th>day</th>\n",
       "      <th>temperature</th>\n",
       "      <th>windspeed</th>\n",
       "      <th>event</th>\n",
       "    </tr>\n",
       "  </thead>\n",
       "  <tbody>\n",
       "    <tr>\n",
       "      <th>0</th>\n",
       "      <td>1/1/2017</td>\n",
       "      <td>32</td>\n",
       "      <td>6</td>\n",
       "      <td>Rain</td>\n",
       "    </tr>\n",
       "    <tr>\n",
       "      <th>1</th>\n",
       "      <td>1/2/2017</td>\n",
       "      <td>35</td>\n",
       "      <td>7</td>\n",
       "      <td>Sunny</td>\n",
       "    </tr>\n",
       "    <tr>\n",
       "      <th>2</th>\n",
       "      <td>1/3/2017</td>\n",
       "      <td>28</td>\n",
       "      <td>2</td>\n",
       "      <td>Snow</td>\n",
       "    </tr>\n",
       "    <tr>\n",
       "      <th>3</th>\n",
       "      <td>1/4/2017</td>\n",
       "      <td>24</td>\n",
       "      <td>7</td>\n",
       "      <td>Snow</td>\n",
       "    </tr>\n",
       "    <tr>\n",
       "      <th>4</th>\n",
       "      <td>1/5/2017</td>\n",
       "      <td>32</td>\n",
       "      <td>4</td>\n",
       "      <td>Rain</td>\n",
       "    </tr>\n",
       "  </tbody>\n",
       "</table>\n",
       "</div>"
      ],
      "text/plain": [
       "        day  temperature  windspeed  event\n",
       "0  1/1/2017           32          6   Rain\n",
       "1  1/2/2017           35          7  Sunny\n",
       "2  1/3/2017           28          2   Snow\n",
       "3  1/4/2017           24          7   Snow\n",
       "4  1/5/2017           32          4   Rain"
      ]
     },
     "execution_count": 8,
     "metadata": {},
     "output_type": "execute_result"
    }
   ],
   "source": [
    "df.head()"
   ]
  },
  {
   "cell_type": "code",
   "execution_count": 9,
   "id": "566c5d85",
   "metadata": {
    "execution": {
     "iopub.execute_input": "2025-07-25T06:24:12.589107Z",
     "iopub.status.busy": "2025-07-25T06:24:12.588809Z",
     "iopub.status.idle": "2025-07-25T06:24:12.598419Z",
     "shell.execute_reply": "2025-07-25T06:24:12.597604Z"
    },
    "papermill": {
     "duration": 0.019622,
     "end_time": "2025-07-25T06:24:12.600013",
     "exception": false,
     "start_time": "2025-07-25T06:24:12.580391",
     "status": "completed"
    },
    "tags": []
   },
   "outputs": [
    {
     "data": {
      "text/html": [
       "<div>\n",
       "<style scoped>\n",
       "    .dataframe tbody tr th:only-of-type {\n",
       "        vertical-align: middle;\n",
       "    }\n",
       "\n",
       "    .dataframe tbody tr th {\n",
       "        vertical-align: top;\n",
       "    }\n",
       "\n",
       "    .dataframe thead th {\n",
       "        text-align: right;\n",
       "    }\n",
       "</style>\n",
       "<table border=\"1\" class=\"dataframe\">\n",
       "  <thead>\n",
       "    <tr style=\"text-align: right;\">\n",
       "      <th></th>\n",
       "      <th>day</th>\n",
       "      <th>temperature</th>\n",
       "      <th>windspeed</th>\n",
       "      <th>event</th>\n",
       "    </tr>\n",
       "  </thead>\n",
       "  <tbody>\n",
       "    <tr>\n",
       "      <th>0</th>\n",
       "      <td>1/1/2017</td>\n",
       "      <td>32</td>\n",
       "      <td>6</td>\n",
       "      <td>Rain</td>\n",
       "    </tr>\n",
       "    <tr>\n",
       "      <th>1</th>\n",
       "      <td>1/2/2017</td>\n",
       "      <td>35</td>\n",
       "      <td>7</td>\n",
       "      <td>Sunny</td>\n",
       "    </tr>\n",
       "  </tbody>\n",
       "</table>\n",
       "</div>"
      ],
      "text/plain": [
       "        day  temperature  windspeed  event\n",
       "0  1/1/2017           32          6   Rain\n",
       "1  1/2/2017           35          7  Sunny"
      ]
     },
     "execution_count": 9,
     "metadata": {},
     "output_type": "execute_result"
    }
   ],
   "source": [
    "df.head(2)"
   ]
  },
  {
   "cell_type": "code",
   "execution_count": 10,
   "id": "aeb69071",
   "metadata": {
    "execution": {
     "iopub.execute_input": "2025-07-25T06:24:12.615284Z",
     "iopub.status.busy": "2025-07-25T06:24:12.615008Z",
     "iopub.status.idle": "2025-07-25T06:24:12.624637Z",
     "shell.execute_reply": "2025-07-25T06:24:12.623719Z"
    },
    "papermill": {
     "duration": 0.01908,
     "end_time": "2025-07-25T06:24:12.626147",
     "exception": false,
     "start_time": "2025-07-25T06:24:12.607067",
     "status": "completed"
    },
    "tags": []
   },
   "outputs": [
    {
     "data": {
      "text/html": [
       "<div>\n",
       "<style scoped>\n",
       "    .dataframe tbody tr th:only-of-type {\n",
       "        vertical-align: middle;\n",
       "    }\n",
       "\n",
       "    .dataframe tbody tr th {\n",
       "        vertical-align: top;\n",
       "    }\n",
       "\n",
       "    .dataframe thead th {\n",
       "        text-align: right;\n",
       "    }\n",
       "</style>\n",
       "<table border=\"1\" class=\"dataframe\">\n",
       "  <thead>\n",
       "    <tr style=\"text-align: right;\">\n",
       "      <th></th>\n",
       "      <th>day</th>\n",
       "      <th>temperature</th>\n",
       "      <th>windspeed</th>\n",
       "      <th>event</th>\n",
       "    </tr>\n",
       "  </thead>\n",
       "  <tbody>\n",
       "    <tr>\n",
       "      <th>1</th>\n",
       "      <td>1/2/2017</td>\n",
       "      <td>35</td>\n",
       "      <td>7</td>\n",
       "      <td>Sunny</td>\n",
       "    </tr>\n",
       "    <tr>\n",
       "      <th>2</th>\n",
       "      <td>1/3/2017</td>\n",
       "      <td>28</td>\n",
       "      <td>2</td>\n",
       "      <td>Snow</td>\n",
       "    </tr>\n",
       "    <tr>\n",
       "      <th>3</th>\n",
       "      <td>1/4/2017</td>\n",
       "      <td>24</td>\n",
       "      <td>7</td>\n",
       "      <td>Snow</td>\n",
       "    </tr>\n",
       "    <tr>\n",
       "      <th>4</th>\n",
       "      <td>1/5/2017</td>\n",
       "      <td>32</td>\n",
       "      <td>4</td>\n",
       "      <td>Rain</td>\n",
       "    </tr>\n",
       "    <tr>\n",
       "      <th>5</th>\n",
       "      <td>1/6/2017</td>\n",
       "      <td>31</td>\n",
       "      <td>2</td>\n",
       "      <td>Sunny</td>\n",
       "    </tr>\n",
       "  </tbody>\n",
       "</table>\n",
       "</div>"
      ],
      "text/plain": [
       "        day  temperature  windspeed  event\n",
       "1  1/2/2017           35          7  Sunny\n",
       "2  1/3/2017           28          2   Snow\n",
       "3  1/4/2017           24          7   Snow\n",
       "4  1/5/2017           32          4   Rain\n",
       "5  1/6/2017           31          2  Sunny"
      ]
     },
     "execution_count": 10,
     "metadata": {},
     "output_type": "execute_result"
    }
   ],
   "source": [
    "df.tail()"
   ]
  },
  {
   "cell_type": "markdown",
   "id": "a51409a6",
   "metadata": {
    "papermill": {
     "duration": 0.006753,
     "end_time": "2025-07-25T06:24:12.640011",
     "exception": false,
     "start_time": "2025-07-25T06:24:12.633258",
     "status": "completed"
    },
    "tags": []
   },
   "source": [
    "last 2 rows"
   ]
  },
  {
   "cell_type": "code",
   "execution_count": 11,
   "id": "c5ef4b52",
   "metadata": {
    "execution": {
     "iopub.execute_input": "2025-07-25T06:24:12.655195Z",
     "iopub.status.busy": "2025-07-25T06:24:12.654907Z",
     "iopub.status.idle": "2025-07-25T06:24:12.663628Z",
     "shell.execute_reply": "2025-07-25T06:24:12.662762Z"
    },
    "papermill": {
     "duration": 0.01824,
     "end_time": "2025-07-25T06:24:12.665184",
     "exception": false,
     "start_time": "2025-07-25T06:24:12.646944",
     "status": "completed"
    },
    "tags": []
   },
   "outputs": [
    {
     "data": {
      "text/html": [
       "<div>\n",
       "<style scoped>\n",
       "    .dataframe tbody tr th:only-of-type {\n",
       "        vertical-align: middle;\n",
       "    }\n",
       "\n",
       "    .dataframe tbody tr th {\n",
       "        vertical-align: top;\n",
       "    }\n",
       "\n",
       "    .dataframe thead th {\n",
       "        text-align: right;\n",
       "    }\n",
       "</style>\n",
       "<table border=\"1\" class=\"dataframe\">\n",
       "  <thead>\n",
       "    <tr style=\"text-align: right;\">\n",
       "      <th></th>\n",
       "      <th>day</th>\n",
       "      <th>temperature</th>\n",
       "      <th>windspeed</th>\n",
       "      <th>event</th>\n",
       "    </tr>\n",
       "  </thead>\n",
       "  <tbody>\n",
       "    <tr>\n",
       "      <th>4</th>\n",
       "      <td>1/5/2017</td>\n",
       "      <td>32</td>\n",
       "      <td>4</td>\n",
       "      <td>Rain</td>\n",
       "    </tr>\n",
       "    <tr>\n",
       "      <th>5</th>\n",
       "      <td>1/6/2017</td>\n",
       "      <td>31</td>\n",
       "      <td>2</td>\n",
       "      <td>Sunny</td>\n",
       "    </tr>\n",
       "  </tbody>\n",
       "</table>\n",
       "</div>"
      ],
      "text/plain": [
       "        day  temperature  windspeed  event\n",
       "4  1/5/2017           32          4   Rain\n",
       "5  1/6/2017           31          2  Sunny"
      ]
     },
     "execution_count": 11,
     "metadata": {},
     "output_type": "execute_result"
    }
   ],
   "source": [
    "df.tail(2)"
   ]
  },
  {
   "cell_type": "markdown",
   "id": "b1ccb311",
   "metadata": {
    "papermill": {
     "duration": 0.00689,
     "end_time": "2025-07-25T06:24:12.679720",
     "exception": false,
     "start_time": "2025-07-25T06:24:12.672830",
     "status": "completed"
    },
    "tags": []
   },
   "source": [
    "print rows 2 to 4"
   ]
  },
  {
   "cell_type": "code",
   "execution_count": 12,
   "id": "8c954a5e",
   "metadata": {
    "execution": {
     "iopub.execute_input": "2025-07-25T06:24:12.695250Z",
     "iopub.status.busy": "2025-07-25T06:24:12.694905Z",
     "iopub.status.idle": "2025-07-25T06:24:12.704388Z",
     "shell.execute_reply": "2025-07-25T06:24:12.703474Z"
    },
    "papermill": {
     "duration": 0.019169,
     "end_time": "2025-07-25T06:24:12.705958",
     "exception": false,
     "start_time": "2025-07-25T06:24:12.686789",
     "status": "completed"
    },
    "tags": []
   },
   "outputs": [
    {
     "data": {
      "text/html": [
       "<div>\n",
       "<style scoped>\n",
       "    .dataframe tbody tr th:only-of-type {\n",
       "        vertical-align: middle;\n",
       "    }\n",
       "\n",
       "    .dataframe tbody tr th {\n",
       "        vertical-align: top;\n",
       "    }\n",
       "\n",
       "    .dataframe thead th {\n",
       "        text-align: right;\n",
       "    }\n",
       "</style>\n",
       "<table border=\"1\" class=\"dataframe\">\n",
       "  <thead>\n",
       "    <tr style=\"text-align: right;\">\n",
       "      <th></th>\n",
       "      <th>day</th>\n",
       "      <th>temperature</th>\n",
       "      <th>windspeed</th>\n",
       "      <th>event</th>\n",
       "    </tr>\n",
       "  </thead>\n",
       "  <tbody>\n",
       "    <tr>\n",
       "      <th>2</th>\n",
       "      <td>1/3/2017</td>\n",
       "      <td>28</td>\n",
       "      <td>2</td>\n",
       "      <td>Snow</td>\n",
       "    </tr>\n",
       "    <tr>\n",
       "      <th>3</th>\n",
       "      <td>1/4/2017</td>\n",
       "      <td>24</td>\n",
       "      <td>7</td>\n",
       "      <td>Snow</td>\n",
       "    </tr>\n",
       "    <tr>\n",
       "      <th>4</th>\n",
       "      <td>1/5/2017</td>\n",
       "      <td>32</td>\n",
       "      <td>4</td>\n",
       "      <td>Rain</td>\n",
       "    </tr>\n",
       "  </tbody>\n",
       "</table>\n",
       "</div>"
      ],
      "text/plain": [
       "        day  temperature  windspeed event\n",
       "2  1/3/2017           28          2  Snow\n",
       "3  1/4/2017           24          7  Snow\n",
       "4  1/5/2017           32          4  Rain"
      ]
     },
     "execution_count": 12,
     "metadata": {},
     "output_type": "execute_result"
    }
   ],
   "source": [
    "df[2:5]"
   ]
  },
  {
   "cell_type": "markdown",
   "id": "8670ca82",
   "metadata": {
    "papermill": {
     "duration": 0.007397,
     "end_time": "2025-07-25T06:24:12.721298",
     "exception": false,
     "start_time": "2025-07-25T06:24:12.713901",
     "status": "completed"
    },
    "tags": []
   },
   "source": [
    "print all : df or df[:]"
   ]
  },
  {
   "cell_type": "code",
   "execution_count": 13,
   "id": "8efe6f4c",
   "metadata": {
    "execution": {
     "iopub.execute_input": "2025-07-25T06:24:12.738247Z",
     "iopub.status.busy": "2025-07-25T06:24:12.737498Z",
     "iopub.status.idle": "2025-07-25T06:24:12.747088Z",
     "shell.execute_reply": "2025-07-25T06:24:12.746177Z"
    },
    "papermill": {
     "duration": 0.019759,
     "end_time": "2025-07-25T06:24:12.748733",
     "exception": false,
     "start_time": "2025-07-25T06:24:12.728974",
     "status": "completed"
    },
    "tags": []
   },
   "outputs": [
    {
     "data": {
      "text/html": [
       "<div>\n",
       "<style scoped>\n",
       "    .dataframe tbody tr th:only-of-type {\n",
       "        vertical-align: middle;\n",
       "    }\n",
       "\n",
       "    .dataframe tbody tr th {\n",
       "        vertical-align: top;\n",
       "    }\n",
       "\n",
       "    .dataframe thead th {\n",
       "        text-align: right;\n",
       "    }\n",
       "</style>\n",
       "<table border=\"1\" class=\"dataframe\">\n",
       "  <thead>\n",
       "    <tr style=\"text-align: right;\">\n",
       "      <th></th>\n",
       "      <th>day</th>\n",
       "      <th>temperature</th>\n",
       "      <th>windspeed</th>\n",
       "      <th>event</th>\n",
       "    </tr>\n",
       "  </thead>\n",
       "  <tbody>\n",
       "    <tr>\n",
       "      <th>0</th>\n",
       "      <td>1/1/2017</td>\n",
       "      <td>32</td>\n",
       "      <td>6</td>\n",
       "      <td>Rain</td>\n",
       "    </tr>\n",
       "    <tr>\n",
       "      <th>1</th>\n",
       "      <td>1/2/2017</td>\n",
       "      <td>35</td>\n",
       "      <td>7</td>\n",
       "      <td>Sunny</td>\n",
       "    </tr>\n",
       "    <tr>\n",
       "      <th>2</th>\n",
       "      <td>1/3/2017</td>\n",
       "      <td>28</td>\n",
       "      <td>2</td>\n",
       "      <td>Snow</td>\n",
       "    </tr>\n",
       "    <tr>\n",
       "      <th>3</th>\n",
       "      <td>1/4/2017</td>\n",
       "      <td>24</td>\n",
       "      <td>7</td>\n",
       "      <td>Snow</td>\n",
       "    </tr>\n",
       "    <tr>\n",
       "      <th>4</th>\n",
       "      <td>1/5/2017</td>\n",
       "      <td>32</td>\n",
       "      <td>4</td>\n",
       "      <td>Rain</td>\n",
       "    </tr>\n",
       "    <tr>\n",
       "      <th>5</th>\n",
       "      <td>1/6/2017</td>\n",
       "      <td>31</td>\n",
       "      <td>2</td>\n",
       "      <td>Sunny</td>\n",
       "    </tr>\n",
       "  </tbody>\n",
       "</table>\n",
       "</div>"
      ],
      "text/plain": [
       "        day  temperature  windspeed  event\n",
       "0  1/1/2017           32          6   Rain\n",
       "1  1/2/2017           35          7  Sunny\n",
       "2  1/3/2017           28          2   Snow\n",
       "3  1/4/2017           24          7   Snow\n",
       "4  1/5/2017           32          4   Rain\n",
       "5  1/6/2017           31          2  Sunny"
      ]
     },
     "execution_count": 13,
     "metadata": {},
     "output_type": "execute_result"
    }
   ],
   "source": [
    "df"
   ]
  },
  {
   "cell_type": "markdown",
   "id": "ec96fae1",
   "metadata": {
    "papermill": {
     "duration": 0.104279,
     "end_time": "2025-07-25T06:24:12.860880",
     "exception": false,
     "start_time": "2025-07-25T06:24:12.756601",
     "status": "completed"
    },
    "tags": []
   },
   "source": [
    "print the columns"
   ]
  },
  {
   "cell_type": "code",
   "execution_count": 14,
   "id": "4b1a2f82",
   "metadata": {
    "execution": {
     "iopub.execute_input": "2025-07-25T06:24:12.878038Z",
     "iopub.status.busy": "2025-07-25T06:24:12.877756Z",
     "iopub.status.idle": "2025-07-25T06:24:12.885035Z",
     "shell.execute_reply": "2025-07-25T06:24:12.884120Z"
    },
    "papermill": {
     "duration": 0.017451,
     "end_time": "2025-07-25T06:24:12.886379",
     "exception": false,
     "start_time": "2025-07-25T06:24:12.868928",
     "status": "completed"
    },
    "tags": []
   },
   "outputs": [
    {
     "data": {
      "text/plain": [
       "Index(['day', 'temperature', 'windspeed', 'event'], dtype='object')"
      ]
     },
     "execution_count": 14,
     "metadata": {},
     "output_type": "execute_result"
    }
   ],
   "source": [
    "df.columns"
   ]
  },
  {
   "cell_type": "markdown",
   "id": "8b0d01dc",
   "metadata": {
    "papermill": {
     "duration": 0.007604,
     "end_time": "2025-07-25T06:24:12.902240",
     "exception": false,
     "start_time": "2025-07-25T06:24:12.894636",
     "status": "completed"
    },
    "tags": []
   },
   "source": [
    "print only a particular column\n",
    "\n",
    "df['day']  or df.day"
   ]
  },
  {
   "cell_type": "code",
   "execution_count": 15,
   "id": "9ae9d198",
   "metadata": {
    "execution": {
     "iopub.execute_input": "2025-07-25T06:24:12.919839Z",
     "iopub.status.busy": "2025-07-25T06:24:12.918986Z",
     "iopub.status.idle": "2025-07-25T06:24:12.926664Z",
     "shell.execute_reply": "2025-07-25T06:24:12.925759Z"
    },
    "papermill": {
     "duration": 0.018019,
     "end_time": "2025-07-25T06:24:12.928188",
     "exception": false,
     "start_time": "2025-07-25T06:24:12.910169",
     "status": "completed"
    },
    "tags": []
   },
   "outputs": [
    {
     "data": {
      "text/plain": [
       "0    1/1/2017\n",
       "1    1/2/2017\n",
       "2    1/3/2017\n",
       "3    1/4/2017\n",
       "4    1/5/2017\n",
       "5    1/6/2017\n",
       "Name: day, dtype: object"
      ]
     },
     "execution_count": 15,
     "metadata": {},
     "output_type": "execute_result"
    }
   ],
   "source": [
    "df['day']  ## OR   df.day"
   ]
  },
  {
   "cell_type": "markdown",
   "id": "a8d8f8e4",
   "metadata": {
    "papermill": {
     "duration": 0.007457,
     "end_time": "2025-07-25T06:24:12.943455",
     "exception": false,
     "start_time": "2025-07-25T06:24:12.935998",
     "status": "completed"
    },
    "tags": []
   },
   "source": [
    "Print multiple columns"
   ]
  },
  {
   "cell_type": "code",
   "execution_count": 16,
   "id": "1d475753",
   "metadata": {
    "execution": {
     "iopub.execute_input": "2025-07-25T06:24:12.960767Z",
     "iopub.status.busy": "2025-07-25T06:24:12.960320Z",
     "iopub.status.idle": "2025-07-25T06:24:12.976013Z",
     "shell.execute_reply": "2025-07-25T06:24:12.975105Z"
    },
    "papermill": {
     "duration": 0.026009,
     "end_time": "2025-07-25T06:24:12.977366",
     "exception": false,
     "start_time": "2025-07-25T06:24:12.951357",
     "status": "completed"
    },
    "tags": []
   },
   "outputs": [
    {
     "data": {
      "text/html": [
       "<div>\n",
       "<style scoped>\n",
       "    .dataframe tbody tr th:only-of-type {\n",
       "        vertical-align: middle;\n",
       "    }\n",
       "\n",
       "    .dataframe tbody tr th {\n",
       "        vertical-align: top;\n",
       "    }\n",
       "\n",
       "    .dataframe thead th {\n",
       "        text-align: right;\n",
       "    }\n",
       "</style>\n",
       "<table border=\"1\" class=\"dataframe\">\n",
       "  <thead>\n",
       "    <tr style=\"text-align: right;\">\n",
       "      <th></th>\n",
       "      <th>day</th>\n",
       "      <th>event</th>\n",
       "    </tr>\n",
       "  </thead>\n",
       "  <tbody>\n",
       "    <tr>\n",
       "      <th>0</th>\n",
       "      <td>1/1/2017</td>\n",
       "      <td>Rain</td>\n",
       "    </tr>\n",
       "    <tr>\n",
       "      <th>1</th>\n",
       "      <td>1/2/2017</td>\n",
       "      <td>Sunny</td>\n",
       "    </tr>\n",
       "    <tr>\n",
       "      <th>2</th>\n",
       "      <td>1/3/2017</td>\n",
       "      <td>Snow</td>\n",
       "    </tr>\n",
       "    <tr>\n",
       "      <th>3</th>\n",
       "      <td>1/4/2017</td>\n",
       "      <td>Snow</td>\n",
       "    </tr>\n",
       "    <tr>\n",
       "      <th>4</th>\n",
       "      <td>1/5/2017</td>\n",
       "      <td>Rain</td>\n",
       "    </tr>\n",
       "    <tr>\n",
       "      <th>5</th>\n",
       "      <td>1/6/2017</td>\n",
       "      <td>Sunny</td>\n",
       "    </tr>\n",
       "  </tbody>\n",
       "</table>\n",
       "</div>"
      ],
      "text/plain": [
       "        day  event\n",
       "0  1/1/2017   Rain\n",
       "1  1/2/2017  Sunny\n",
       "2  1/3/2017   Snow\n",
       "3  1/4/2017   Snow\n",
       "4  1/5/2017   Rain\n",
       "5  1/6/2017  Sunny"
      ]
     },
     "execution_count": 16,
     "metadata": {},
     "output_type": "execute_result"
    }
   ],
   "source": [
    "df[['day', 'event']]"
   ]
  },
  {
   "cell_type": "markdown",
   "id": "1a85a649",
   "metadata": {
    "papermill": {
     "duration": 0.007456,
     "end_time": "2025-07-25T06:24:12.992673",
     "exception": false,
     "start_time": "2025-07-25T06:24:12.985217",
     "status": "completed"
    },
    "tags": []
   },
   "source": [
    "find the maximum value in a dataset.\n",
    "eg. find the max temperature"
   ]
  },
  {
   "cell_type": "code",
   "execution_count": 17,
   "id": "756fedfb",
   "metadata": {
    "execution": {
     "iopub.execute_input": "2025-07-25T06:24:13.012416Z",
     "iopub.status.busy": "2025-07-25T06:24:13.011170Z",
     "iopub.status.idle": "2025-07-25T06:24:13.020000Z",
     "shell.execute_reply": "2025-07-25T06:24:13.018893Z"
    },
    "papermill": {
     "duration": 0.020659,
     "end_time": "2025-07-25T06:24:13.021711",
     "exception": false,
     "start_time": "2025-07-25T06:24:13.001052",
     "status": "completed"
    },
    "tags": []
   },
   "outputs": [
    {
     "data": {
      "text/plain": [
       "0    32\n",
       "1    35\n",
       "2    28\n",
       "3    24\n",
       "4    32\n",
       "5    31\n",
       "Name: temperature, dtype: int64"
      ]
     },
     "execution_count": 17,
     "metadata": {},
     "output_type": "execute_result"
    }
   ],
   "source": [
    "df['temperature']"
   ]
  },
  {
   "cell_type": "code",
   "execution_count": 18,
   "id": "4a345502",
   "metadata": {
    "execution": {
     "iopub.execute_input": "2025-07-25T06:24:13.046059Z",
     "iopub.status.busy": "2025-07-25T06:24:13.045659Z",
     "iopub.status.idle": "2025-07-25T06:24:13.053353Z",
     "shell.execute_reply": "2025-07-25T06:24:13.052257Z"
    },
    "papermill": {
     "duration": 0.021139,
     "end_time": "2025-07-25T06:24:13.055179",
     "exception": false,
     "start_time": "2025-07-25T06:24:13.034040",
     "status": "completed"
    },
    "tags": []
   },
   "outputs": [
    {
     "data": {
      "text/plain": [
       "35"
      ]
     },
     "execution_count": 18,
     "metadata": {},
     "output_type": "execute_result"
    }
   ],
   "source": [
    "df['temperature'].max()"
   ]
  },
  {
   "cell_type": "markdown",
   "id": "0f86f8cc",
   "metadata": {
    "papermill": {
     "duration": 0.010993,
     "end_time": "2025-07-25T06:24:13.075282",
     "exception": false,
     "start_time": "2025-07-25T06:24:13.064289",
     "status": "completed"
    },
    "tags": []
   },
   "source": [
    "get the statistics of the dataset"
   ]
  },
  {
   "cell_type": "code",
   "execution_count": 19,
   "id": "e8d8ef57",
   "metadata": {
    "execution": {
     "iopub.execute_input": "2025-07-25T06:24:13.093469Z",
     "iopub.status.busy": "2025-07-25T06:24:13.092650Z",
     "iopub.status.idle": "2025-07-25T06:24:13.111394Z",
     "shell.execute_reply": "2025-07-25T06:24:13.110500Z"
    },
    "papermill": {
     "duration": 0.029187,
     "end_time": "2025-07-25T06:24:13.112651",
     "exception": false,
     "start_time": "2025-07-25T06:24:13.083464",
     "status": "completed"
    },
    "tags": []
   },
   "outputs": [
    {
     "data": {
      "text/html": [
       "<div>\n",
       "<style scoped>\n",
       "    .dataframe tbody tr th:only-of-type {\n",
       "        vertical-align: middle;\n",
       "    }\n",
       "\n",
       "    .dataframe tbody tr th {\n",
       "        vertical-align: top;\n",
       "    }\n",
       "\n",
       "    .dataframe thead th {\n",
       "        text-align: right;\n",
       "    }\n",
       "</style>\n",
       "<table border=\"1\" class=\"dataframe\">\n",
       "  <thead>\n",
       "    <tr style=\"text-align: right;\">\n",
       "      <th></th>\n",
       "      <th>temperature</th>\n",
       "      <th>windspeed</th>\n",
       "    </tr>\n",
       "  </thead>\n",
       "  <tbody>\n",
       "    <tr>\n",
       "      <th>count</th>\n",
       "      <td>6.000000</td>\n",
       "      <td>6.000000</td>\n",
       "    </tr>\n",
       "    <tr>\n",
       "      <th>mean</th>\n",
       "      <td>30.333333</td>\n",
       "      <td>4.666667</td>\n",
       "    </tr>\n",
       "    <tr>\n",
       "      <th>std</th>\n",
       "      <td>3.829708</td>\n",
       "      <td>2.338090</td>\n",
       "    </tr>\n",
       "    <tr>\n",
       "      <th>min</th>\n",
       "      <td>24.000000</td>\n",
       "      <td>2.000000</td>\n",
       "    </tr>\n",
       "    <tr>\n",
       "      <th>25%</th>\n",
       "      <td>28.750000</td>\n",
       "      <td>2.500000</td>\n",
       "    </tr>\n",
       "    <tr>\n",
       "      <th>50%</th>\n",
       "      <td>31.500000</td>\n",
       "      <td>5.000000</td>\n",
       "    </tr>\n",
       "    <tr>\n",
       "      <th>75%</th>\n",
       "      <td>32.000000</td>\n",
       "      <td>6.750000</td>\n",
       "    </tr>\n",
       "    <tr>\n",
       "      <th>max</th>\n",
       "      <td>35.000000</td>\n",
       "      <td>7.000000</td>\n",
       "    </tr>\n",
       "  </tbody>\n",
       "</table>\n",
       "</div>"
      ],
      "text/plain": [
       "       temperature  windspeed\n",
       "count     6.000000   6.000000\n",
       "mean     30.333333   4.666667\n",
       "std       3.829708   2.338090\n",
       "min      24.000000   2.000000\n",
       "25%      28.750000   2.500000\n",
       "50%      31.500000   5.000000\n",
       "75%      32.000000   6.750000\n",
       "max      35.000000   7.000000"
      ]
     },
     "execution_count": 19,
     "metadata": {},
     "output_type": "execute_result"
    }
   ],
   "source": [
    "df.describe()"
   ]
  },
  {
   "cell_type": "markdown",
   "id": "b0117d72",
   "metadata": {
    "papermill": {
     "duration": 0.011299,
     "end_time": "2025-07-25T06:24:13.132243",
     "exception": false,
     "start_time": "2025-07-25T06:24:13.120944",
     "status": "completed"
    },
    "tags": []
   },
   "source": [
    "Find the temperature which is greater or equal to 32"
   ]
  },
  {
   "cell_type": "code",
   "execution_count": 20,
   "id": "5415fb1e",
   "metadata": {
    "execution": {
     "iopub.execute_input": "2025-07-25T06:24:13.157122Z",
     "iopub.status.busy": "2025-07-25T06:24:13.156747Z",
     "iopub.status.idle": "2025-07-25T06:24:13.172972Z",
     "shell.execute_reply": "2025-07-25T06:24:13.171629Z"
    },
    "papermill": {
     "duration": 0.031678,
     "end_time": "2025-07-25T06:24:13.174950",
     "exception": false,
     "start_time": "2025-07-25T06:24:13.143272",
     "status": "completed"
    },
    "tags": []
   },
   "outputs": [
    {
     "data": {
      "text/html": [
       "<div>\n",
       "<style scoped>\n",
       "    .dataframe tbody tr th:only-of-type {\n",
       "        vertical-align: middle;\n",
       "    }\n",
       "\n",
       "    .dataframe tbody tr th {\n",
       "        vertical-align: top;\n",
       "    }\n",
       "\n",
       "    .dataframe thead th {\n",
       "        text-align: right;\n",
       "    }\n",
       "</style>\n",
       "<table border=\"1\" class=\"dataframe\">\n",
       "  <thead>\n",
       "    <tr style=\"text-align: right;\">\n",
       "      <th></th>\n",
       "      <th>day</th>\n",
       "      <th>temperature</th>\n",
       "      <th>windspeed</th>\n",
       "      <th>event</th>\n",
       "    </tr>\n",
       "  </thead>\n",
       "  <tbody>\n",
       "    <tr>\n",
       "      <th>0</th>\n",
       "      <td>1/1/2017</td>\n",
       "      <td>32</td>\n",
       "      <td>6</td>\n",
       "      <td>Rain</td>\n",
       "    </tr>\n",
       "    <tr>\n",
       "      <th>1</th>\n",
       "      <td>1/2/2017</td>\n",
       "      <td>35</td>\n",
       "      <td>7</td>\n",
       "      <td>Sunny</td>\n",
       "    </tr>\n",
       "    <tr>\n",
       "      <th>4</th>\n",
       "      <td>1/5/2017</td>\n",
       "      <td>32</td>\n",
       "      <td>4</td>\n",
       "      <td>Rain</td>\n",
       "    </tr>\n",
       "  </tbody>\n",
       "</table>\n",
       "</div>"
      ],
      "text/plain": [
       "        day  temperature  windspeed  event\n",
       "0  1/1/2017           32          6   Rain\n",
       "1  1/2/2017           35          7  Sunny\n",
       "4  1/5/2017           32          4   Rain"
      ]
     },
     "execution_count": 20,
     "metadata": {},
     "output_type": "execute_result"
    }
   ],
   "source": [
    "df[df.temperature >= 32]"
   ]
  },
  {
   "cell_type": "markdown",
   "id": "509251de",
   "metadata": {
    "papermill": {
     "duration": 0.009904,
     "end_time": "2025-07-25T06:24:13.197762",
     "exception": false,
     "start_time": "2025-07-25T06:24:13.187858",
     "status": "completed"
    },
    "tags": []
   },
   "source": [
    "Find the row having maz temperature:"
   ]
  },
  {
   "cell_type": "code",
   "execution_count": 21,
   "id": "fe67e5fa",
   "metadata": {
    "execution": {
     "iopub.execute_input": "2025-07-25T06:24:13.222156Z",
     "iopub.status.busy": "2025-07-25T06:24:13.221616Z",
     "iopub.status.idle": "2025-07-25T06:24:13.233072Z",
     "shell.execute_reply": "2025-07-25T06:24:13.232114Z"
    },
    "papermill": {
     "duration": 0.025762,
     "end_time": "2025-07-25T06:24:13.234820",
     "exception": false,
     "start_time": "2025-07-25T06:24:13.209058",
     "status": "completed"
    },
    "tags": []
   },
   "outputs": [
    {
     "data": {
      "text/html": [
       "<div>\n",
       "<style scoped>\n",
       "    .dataframe tbody tr th:only-of-type {\n",
       "        vertical-align: middle;\n",
       "    }\n",
       "\n",
       "    .dataframe tbody tr th {\n",
       "        vertical-align: top;\n",
       "    }\n",
       "\n",
       "    .dataframe thead th {\n",
       "        text-align: right;\n",
       "    }\n",
       "</style>\n",
       "<table border=\"1\" class=\"dataframe\">\n",
       "  <thead>\n",
       "    <tr style=\"text-align: right;\">\n",
       "      <th></th>\n",
       "      <th>day</th>\n",
       "      <th>temperature</th>\n",
       "      <th>windspeed</th>\n",
       "      <th>event</th>\n",
       "    </tr>\n",
       "  </thead>\n",
       "  <tbody>\n",
       "    <tr>\n",
       "      <th>1</th>\n",
       "      <td>1/2/2017</td>\n",
       "      <td>35</td>\n",
       "      <td>7</td>\n",
       "      <td>Sunny</td>\n",
       "    </tr>\n",
       "  </tbody>\n",
       "</table>\n",
       "</div>"
      ],
      "text/plain": [
       "        day  temperature  windspeed  event\n",
       "1  1/2/2017           35          7  Sunny"
      ]
     },
     "execution_count": 21,
     "metadata": {},
     "output_type": "execute_result"
    }
   ],
   "source": [
    "df[df.temperature == df.temperature.max()]"
   ]
  },
  {
   "cell_type": "markdown",
   "id": "488b300e",
   "metadata": {
    "papermill": {
     "duration": 0.008655,
     "end_time": "2025-07-25T06:24:13.252752",
     "exception": false,
     "start_time": "2025-07-25T06:24:13.244097",
     "status": "completed"
    },
    "tags": []
   },
   "source": [
    "Find the day having the max temperature"
   ]
  },
  {
   "cell_type": "code",
   "execution_count": 22,
   "id": "d9f72057",
   "metadata": {
    "execution": {
     "iopub.execute_input": "2025-07-25T06:24:13.271672Z",
     "iopub.status.busy": "2025-07-25T06:24:13.271333Z",
     "iopub.status.idle": "2025-07-25T06:24:13.281886Z",
     "shell.execute_reply": "2025-07-25T06:24:13.280956Z"
    },
    "papermill": {
     "duration": 0.021699,
     "end_time": "2025-07-25T06:24:13.283250",
     "exception": false,
     "start_time": "2025-07-25T06:24:13.261551",
     "status": "completed"
    },
    "tags": []
   },
   "outputs": [
    {
     "data": {
      "text/html": [
       "<div>\n",
       "<style scoped>\n",
       "    .dataframe tbody tr th:only-of-type {\n",
       "        vertical-align: middle;\n",
       "    }\n",
       "\n",
       "    .dataframe tbody tr th {\n",
       "        vertical-align: top;\n",
       "    }\n",
       "\n",
       "    .dataframe thead th {\n",
       "        text-align: right;\n",
       "    }\n",
       "</style>\n",
       "<table border=\"1\" class=\"dataframe\">\n",
       "  <thead>\n",
       "    <tr style=\"text-align: right;\">\n",
       "      <th></th>\n",
       "      <th>day</th>\n",
       "      <th>temperature</th>\n",
       "    </tr>\n",
       "  </thead>\n",
       "  <tbody>\n",
       "    <tr>\n",
       "      <th>1</th>\n",
       "      <td>1/2/2017</td>\n",
       "      <td>35</td>\n",
       "    </tr>\n",
       "  </tbody>\n",
       "</table>\n",
       "</div>"
      ],
      "text/plain": [
       "        day  temperature\n",
       "1  1/2/2017           35"
      ]
     },
     "execution_count": 22,
     "metadata": {},
     "output_type": "execute_result"
    }
   ],
   "source": [
    "df[['day', 'temperature']][df.temperature == df['temperature'].max()]"
   ]
  },
  {
   "cell_type": "code",
   "execution_count": 23,
   "id": "f456973a",
   "metadata": {
    "execution": {
     "iopub.execute_input": "2025-07-25T06:24:13.302211Z",
     "iopub.status.busy": "2025-07-25T06:24:13.301424Z",
     "iopub.status.idle": "2025-07-25T06:24:13.310782Z",
     "shell.execute_reply": "2025-07-25T06:24:13.309916Z"
    },
    "papermill": {
     "duration": 0.020596,
     "end_time": "2025-07-25T06:24:13.312424",
     "exception": false,
     "start_time": "2025-07-25T06:24:13.291828",
     "status": "completed"
    },
    "tags": []
   },
   "outputs": [
    {
     "data": {
      "text/html": [
       "<div>\n",
       "<style scoped>\n",
       "    .dataframe tbody tr th:only-of-type {\n",
       "        vertical-align: middle;\n",
       "    }\n",
       "\n",
       "    .dataframe tbody tr th {\n",
       "        vertical-align: top;\n",
       "    }\n",
       "\n",
       "    .dataframe thead th {\n",
       "        text-align: right;\n",
       "    }\n",
       "</style>\n",
       "<table border=\"1\" class=\"dataframe\">\n",
       "  <thead>\n",
       "    <tr style=\"text-align: right;\">\n",
       "      <th></th>\n",
       "      <th>day</th>\n",
       "      <th>temperature</th>\n",
       "      <th>windspeed</th>\n",
       "      <th>event</th>\n",
       "    </tr>\n",
       "  </thead>\n",
       "  <tbody>\n",
       "    <tr>\n",
       "      <th>0</th>\n",
       "      <td>1/1/2017</td>\n",
       "      <td>32</td>\n",
       "      <td>6</td>\n",
       "      <td>Rain</td>\n",
       "    </tr>\n",
       "    <tr>\n",
       "      <th>1</th>\n",
       "      <td>1/2/2017</td>\n",
       "      <td>35</td>\n",
       "      <td>7</td>\n",
       "      <td>Sunny</td>\n",
       "    </tr>\n",
       "    <tr>\n",
       "      <th>2</th>\n",
       "      <td>1/3/2017</td>\n",
       "      <td>28</td>\n",
       "      <td>2</td>\n",
       "      <td>Snow</td>\n",
       "    </tr>\n",
       "    <tr>\n",
       "      <th>3</th>\n",
       "      <td>1/4/2017</td>\n",
       "      <td>24</td>\n",
       "      <td>7</td>\n",
       "      <td>Snow</td>\n",
       "    </tr>\n",
       "    <tr>\n",
       "      <th>4</th>\n",
       "      <td>1/5/2017</td>\n",
       "      <td>32</td>\n",
       "      <td>4</td>\n",
       "      <td>Rain</td>\n",
       "    </tr>\n",
       "    <tr>\n",
       "      <th>5</th>\n",
       "      <td>1/6/2017</td>\n",
       "      <td>31</td>\n",
       "      <td>2</td>\n",
       "      <td>Sunny</td>\n",
       "    </tr>\n",
       "  </tbody>\n",
       "</table>\n",
       "</div>"
      ],
      "text/plain": [
       "        day  temperature  windspeed  event\n",
       "0  1/1/2017           32          6   Rain\n",
       "1  1/2/2017           35          7  Sunny\n",
       "2  1/3/2017           28          2   Snow\n",
       "3  1/4/2017           24          7   Snow\n",
       "4  1/5/2017           32          4   Rain\n",
       "5  1/6/2017           31          2  Sunny"
      ]
     },
     "execution_count": 23,
     "metadata": {},
     "output_type": "execute_result"
    }
   ],
   "source": [
    "df"
   ]
  },
  {
   "cell_type": "markdown",
   "id": "b9979bc2",
   "metadata": {
    "papermill": {
     "duration": 0.010951,
     "end_time": "2025-07-25T06:24:13.335705",
     "exception": false,
     "start_time": "2025-07-25T06:24:13.324754",
     "status": "completed"
    },
    "tags": []
   },
   "source": [
    "to make a column as index"
   ]
  },
  {
   "cell_type": "code",
   "execution_count": 24,
   "id": "dc1dcf4b",
   "metadata": {
    "execution": {
     "iopub.execute_input": "2025-07-25T06:24:13.356582Z",
     "iopub.status.busy": "2025-07-25T06:24:13.355424Z",
     "iopub.status.idle": "2025-07-25T06:24:13.363765Z",
     "shell.execute_reply": "2025-07-25T06:24:13.362800Z"
    },
    "papermill": {
     "duration": 0.020219,
     "end_time": "2025-07-25T06:24:13.365537",
     "exception": false,
     "start_time": "2025-07-25T06:24:13.345318",
     "status": "completed"
    },
    "tags": []
   },
   "outputs": [],
   "source": [
    "df.set_index('day', inplace = True)"
   ]
  },
  {
   "cell_type": "code",
   "execution_count": 25,
   "id": "c4cad7b9",
   "metadata": {
    "execution": {
     "iopub.execute_input": "2025-07-25T06:24:13.387806Z",
     "iopub.status.busy": "2025-07-25T06:24:13.387355Z",
     "iopub.status.idle": "2025-07-25T06:24:13.397225Z",
     "shell.execute_reply": "2025-07-25T06:24:13.396088Z"
    },
    "papermill": {
     "duration": 0.023613,
     "end_time": "2025-07-25T06:24:13.398580",
     "exception": false,
     "start_time": "2025-07-25T06:24:13.374967",
     "status": "completed"
    },
    "tags": []
   },
   "outputs": [
    {
     "data": {
      "text/html": [
       "<div>\n",
       "<style scoped>\n",
       "    .dataframe tbody tr th:only-of-type {\n",
       "        vertical-align: middle;\n",
       "    }\n",
       "\n",
       "    .dataframe tbody tr th {\n",
       "        vertical-align: top;\n",
       "    }\n",
       "\n",
       "    .dataframe thead th {\n",
       "        text-align: right;\n",
       "    }\n",
       "</style>\n",
       "<table border=\"1\" class=\"dataframe\">\n",
       "  <thead>\n",
       "    <tr style=\"text-align: right;\">\n",
       "      <th></th>\n",
       "      <th>temperature</th>\n",
       "      <th>windspeed</th>\n",
       "      <th>event</th>\n",
       "    </tr>\n",
       "    <tr>\n",
       "      <th>day</th>\n",
       "      <th></th>\n",
       "      <th></th>\n",
       "      <th></th>\n",
       "    </tr>\n",
       "  </thead>\n",
       "  <tbody>\n",
       "    <tr>\n",
       "      <th>1/1/2017</th>\n",
       "      <td>32</td>\n",
       "      <td>6</td>\n",
       "      <td>Rain</td>\n",
       "    </tr>\n",
       "    <tr>\n",
       "      <th>1/2/2017</th>\n",
       "      <td>35</td>\n",
       "      <td>7</td>\n",
       "      <td>Sunny</td>\n",
       "    </tr>\n",
       "    <tr>\n",
       "      <th>1/3/2017</th>\n",
       "      <td>28</td>\n",
       "      <td>2</td>\n",
       "      <td>Snow</td>\n",
       "    </tr>\n",
       "    <tr>\n",
       "      <th>1/4/2017</th>\n",
       "      <td>24</td>\n",
       "      <td>7</td>\n",
       "      <td>Snow</td>\n",
       "    </tr>\n",
       "    <tr>\n",
       "      <th>1/5/2017</th>\n",
       "      <td>32</td>\n",
       "      <td>4</td>\n",
       "      <td>Rain</td>\n",
       "    </tr>\n",
       "    <tr>\n",
       "      <th>1/6/2017</th>\n",
       "      <td>31</td>\n",
       "      <td>2</td>\n",
       "      <td>Sunny</td>\n",
       "    </tr>\n",
       "  </tbody>\n",
       "</table>\n",
       "</div>"
      ],
      "text/plain": [
       "          temperature  windspeed  event\n",
       "day                                    \n",
       "1/1/2017           32          6   Rain\n",
       "1/2/2017           35          7  Sunny\n",
       "1/3/2017           28          2   Snow\n",
       "1/4/2017           24          7   Snow\n",
       "1/5/2017           32          4   Rain\n",
       "1/6/2017           31          2  Sunny"
      ]
     },
     "execution_count": 25,
     "metadata": {},
     "output_type": "execute_result"
    }
   ],
   "source": [
    "df"
   ]
  },
  {
   "cell_type": "code",
   "execution_count": 26,
   "id": "285aa959",
   "metadata": {
    "execution": {
     "iopub.execute_input": "2025-07-25T06:24:13.418208Z",
     "iopub.status.busy": "2025-07-25T06:24:13.417449Z",
     "iopub.status.idle": "2025-07-25T06:24:13.425331Z",
     "shell.execute_reply": "2025-07-25T06:24:13.424404Z"
    },
    "papermill": {
     "duration": 0.019182,
     "end_time": "2025-07-25T06:24:13.426756",
     "exception": false,
     "start_time": "2025-07-25T06:24:13.407574",
     "status": "completed"
    },
    "tags": []
   },
   "outputs": [
    {
     "data": {
      "text/plain": [
       "temperature      24\n",
       "windspeed         7\n",
       "event          Snow\n",
       "Name: 1/4/2017, dtype: object"
      ]
     },
     "execution_count": 26,
     "metadata": {},
     "output_type": "execute_result"
    }
   ],
   "source": [
    "df.loc['1/4/2017']"
   ]
  },
  {
   "cell_type": "markdown",
   "id": "586e2dc4",
   "metadata": {
    "papermill": {
     "duration": 0.008482,
     "end_time": "2025-07-25T06:24:13.444106",
     "exception": false,
     "start_time": "2025-07-25T06:24:13.435624",
     "status": "completed"
    },
    "tags": []
   },
   "source": [
    "to reset the indexing to original:\n",
    "index column is seen again"
   ]
  },
  {
   "cell_type": "code",
   "execution_count": 27,
   "id": "6154132a",
   "metadata": {
    "execution": {
     "iopub.execute_input": "2025-07-25T06:24:13.463829Z",
     "iopub.status.busy": "2025-07-25T06:24:13.463446Z",
     "iopub.status.idle": "2025-07-25T06:24:13.473991Z",
     "shell.execute_reply": "2025-07-25T06:24:13.472996Z"
    },
    "papermill": {
     "duration": 0.022484,
     "end_time": "2025-07-25T06:24:13.475427",
     "exception": false,
     "start_time": "2025-07-25T06:24:13.452943",
     "status": "completed"
    },
    "tags": []
   },
   "outputs": [
    {
     "data": {
      "text/html": [
       "<div>\n",
       "<style scoped>\n",
       "    .dataframe tbody tr th:only-of-type {\n",
       "        vertical-align: middle;\n",
       "    }\n",
       "\n",
       "    .dataframe tbody tr th {\n",
       "        vertical-align: top;\n",
       "    }\n",
       "\n",
       "    .dataframe thead th {\n",
       "        text-align: right;\n",
       "    }\n",
       "</style>\n",
       "<table border=\"1\" class=\"dataframe\">\n",
       "  <thead>\n",
       "    <tr style=\"text-align: right;\">\n",
       "      <th></th>\n",
       "      <th>day</th>\n",
       "      <th>temperature</th>\n",
       "      <th>windspeed</th>\n",
       "      <th>event</th>\n",
       "    </tr>\n",
       "  </thead>\n",
       "  <tbody>\n",
       "    <tr>\n",
       "      <th>0</th>\n",
       "      <td>1/1/2017</td>\n",
       "      <td>32</td>\n",
       "      <td>6</td>\n",
       "      <td>Rain</td>\n",
       "    </tr>\n",
       "    <tr>\n",
       "      <th>1</th>\n",
       "      <td>1/2/2017</td>\n",
       "      <td>35</td>\n",
       "      <td>7</td>\n",
       "      <td>Sunny</td>\n",
       "    </tr>\n",
       "    <tr>\n",
       "      <th>2</th>\n",
       "      <td>1/3/2017</td>\n",
       "      <td>28</td>\n",
       "      <td>2</td>\n",
       "      <td>Snow</td>\n",
       "    </tr>\n",
       "    <tr>\n",
       "      <th>3</th>\n",
       "      <td>1/4/2017</td>\n",
       "      <td>24</td>\n",
       "      <td>7</td>\n",
       "      <td>Snow</td>\n",
       "    </tr>\n",
       "    <tr>\n",
       "      <th>4</th>\n",
       "      <td>1/5/2017</td>\n",
       "      <td>32</td>\n",
       "      <td>4</td>\n",
       "      <td>Rain</td>\n",
       "    </tr>\n",
       "    <tr>\n",
       "      <th>5</th>\n",
       "      <td>1/6/2017</td>\n",
       "      <td>31</td>\n",
       "      <td>2</td>\n",
       "      <td>Sunny</td>\n",
       "    </tr>\n",
       "  </tbody>\n",
       "</table>\n",
       "</div>"
      ],
      "text/plain": [
       "        day  temperature  windspeed  event\n",
       "0  1/1/2017           32          6   Rain\n",
       "1  1/2/2017           35          7  Sunny\n",
       "2  1/3/2017           28          2   Snow\n",
       "3  1/4/2017           24          7   Snow\n",
       "4  1/5/2017           32          4   Rain\n",
       "5  1/6/2017           31          2  Sunny"
      ]
     },
     "execution_count": 27,
     "metadata": {},
     "output_type": "execute_result"
    }
   ],
   "source": [
    "df.reset_index(inplace=True)\n",
    "df"
   ]
  },
  {
   "cell_type": "code",
   "execution_count": 28,
   "id": "5a0c6669",
   "metadata": {
    "execution": {
     "iopub.execute_input": "2025-07-25T06:24:13.495607Z",
     "iopub.status.busy": "2025-07-25T06:24:13.494579Z",
     "iopub.status.idle": "2025-07-25T06:24:13.502434Z",
     "shell.execute_reply": "2025-07-25T06:24:13.501414Z"
    },
    "papermill": {
     "duration": 0.019262,
     "end_time": "2025-07-25T06:24:13.503892",
     "exception": false,
     "start_time": "2025-07-25T06:24:13.484630",
     "status": "completed"
    },
    "tags": []
   },
   "outputs": [
    {
     "data": {
      "text/plain": [
       "day            1/2/2017\n",
       "temperature          35\n",
       "windspeed             7\n",
       "event             Sunny\n",
       "Name: 1, dtype: object"
      ]
     },
     "execution_count": 28,
     "metadata": {},
     "output_type": "execute_result"
    }
   ],
   "source": [
    "df.loc[1]"
   ]
  },
  {
   "cell_type": "code",
   "execution_count": 29,
   "id": "7af6d276",
   "metadata": {
    "execution": {
     "iopub.execute_input": "2025-07-25T06:24:13.523958Z",
     "iopub.status.busy": "2025-07-25T06:24:13.522978Z",
     "iopub.status.idle": "2025-07-25T06:24:13.533434Z",
     "shell.execute_reply": "2025-07-25T06:24:13.532444Z"
    },
    "papermill": {
     "duration": 0.021946,
     "end_time": "2025-07-25T06:24:13.534913",
     "exception": false,
     "start_time": "2025-07-25T06:24:13.512967",
     "status": "completed"
    },
    "tags": []
   },
   "outputs": [
    {
     "data": {
      "text/html": [
       "<div>\n",
       "<style scoped>\n",
       "    .dataframe tbody tr th:only-of-type {\n",
       "        vertical-align: middle;\n",
       "    }\n",
       "\n",
       "    .dataframe tbody tr th {\n",
       "        vertical-align: top;\n",
       "    }\n",
       "\n",
       "    .dataframe thead th {\n",
       "        text-align: right;\n",
       "    }\n",
       "</style>\n",
       "<table border=\"1\" class=\"dataframe\">\n",
       "  <thead>\n",
       "    <tr style=\"text-align: right;\">\n",
       "      <th></th>\n",
       "      <th>day</th>\n",
       "      <th>temperature</th>\n",
       "      <th>windspeed</th>\n",
       "    </tr>\n",
       "    <tr>\n",
       "      <th>event</th>\n",
       "      <th></th>\n",
       "      <th></th>\n",
       "      <th></th>\n",
       "    </tr>\n",
       "  </thead>\n",
       "  <tbody>\n",
       "    <tr>\n",
       "      <th>Rain</th>\n",
       "      <td>1/1/2017</td>\n",
       "      <td>32</td>\n",
       "      <td>6</td>\n",
       "    </tr>\n",
       "    <tr>\n",
       "      <th>Sunny</th>\n",
       "      <td>1/2/2017</td>\n",
       "      <td>35</td>\n",
       "      <td>7</td>\n",
       "    </tr>\n",
       "    <tr>\n",
       "      <th>Snow</th>\n",
       "      <td>1/3/2017</td>\n",
       "      <td>28</td>\n",
       "      <td>2</td>\n",
       "    </tr>\n",
       "    <tr>\n",
       "      <th>Snow</th>\n",
       "      <td>1/4/2017</td>\n",
       "      <td>24</td>\n",
       "      <td>7</td>\n",
       "    </tr>\n",
       "    <tr>\n",
       "      <th>Rain</th>\n",
       "      <td>1/5/2017</td>\n",
       "      <td>32</td>\n",
       "      <td>4</td>\n",
       "    </tr>\n",
       "    <tr>\n",
       "      <th>Sunny</th>\n",
       "      <td>1/6/2017</td>\n",
       "      <td>31</td>\n",
       "      <td>2</td>\n",
       "    </tr>\n",
       "  </tbody>\n",
       "</table>\n",
       "</div>"
      ],
      "text/plain": [
       "            day  temperature  windspeed\n",
       "event                                  \n",
       "Rain   1/1/2017           32          6\n",
       "Sunny  1/2/2017           35          7\n",
       "Snow   1/3/2017           28          2\n",
       "Snow   1/4/2017           24          7\n",
       "Rain   1/5/2017           32          4\n",
       "Sunny  1/6/2017           31          2"
      ]
     },
     "execution_count": 29,
     "metadata": {},
     "output_type": "execute_result"
    }
   ],
   "source": [
    "df.set_index('event', inplace = True)\n",
    "df"
   ]
  },
  {
   "cell_type": "code",
   "execution_count": 30,
   "id": "8733dfb0",
   "metadata": {
    "execution": {
     "iopub.execute_input": "2025-07-25T06:24:13.554599Z",
     "iopub.status.busy": "2025-07-25T06:24:13.554220Z",
     "iopub.status.idle": "2025-07-25T06:24:13.565311Z",
     "shell.execute_reply": "2025-07-25T06:24:13.564417Z"
    },
    "papermill": {
     "duration": 0.02269,
     "end_time": "2025-07-25T06:24:13.566747",
     "exception": false,
     "start_time": "2025-07-25T06:24:13.544057",
     "status": "completed"
    },
    "tags": []
   },
   "outputs": [
    {
     "data": {
      "text/html": [
       "<div>\n",
       "<style scoped>\n",
       "    .dataframe tbody tr th:only-of-type {\n",
       "        vertical-align: middle;\n",
       "    }\n",
       "\n",
       "    .dataframe tbody tr th {\n",
       "        vertical-align: top;\n",
       "    }\n",
       "\n",
       "    .dataframe thead th {\n",
       "        text-align: right;\n",
       "    }\n",
       "</style>\n",
       "<table border=\"1\" class=\"dataframe\">\n",
       "  <thead>\n",
       "    <tr style=\"text-align: right;\">\n",
       "      <th></th>\n",
       "      <th>day</th>\n",
       "      <th>temperature</th>\n",
       "      <th>windspeed</th>\n",
       "    </tr>\n",
       "    <tr>\n",
       "      <th>event</th>\n",
       "      <th></th>\n",
       "      <th></th>\n",
       "      <th></th>\n",
       "    </tr>\n",
       "  </thead>\n",
       "  <tbody>\n",
       "    <tr>\n",
       "      <th>Snow</th>\n",
       "      <td>1/3/2017</td>\n",
       "      <td>28</td>\n",
       "      <td>2</td>\n",
       "    </tr>\n",
       "    <tr>\n",
       "      <th>Snow</th>\n",
       "      <td>1/4/2017</td>\n",
       "      <td>24</td>\n",
       "      <td>7</td>\n",
       "    </tr>\n",
       "  </tbody>\n",
       "</table>\n",
       "</div>"
      ],
      "text/plain": [
       "            day  temperature  windspeed\n",
       "event                                  \n",
       "Snow   1/3/2017           28          2\n",
       "Snow   1/4/2017           24          7"
      ]
     },
     "execution_count": 30,
     "metadata": {},
     "output_type": "execute_result"
    }
   ],
   "source": [
    "df.loc['Snow']"
   ]
  }
 ],
 "metadata": {
  "kaggle": {
   "accelerator": "none",
   "dataSources": [
    {
     "datasetId": 7935762,
     "sourceId": 12566560,
     "sourceType": "datasetVersion"
    }
   ],
   "dockerImageVersionId": 31089,
   "isGpuEnabled": false,
   "isInternetEnabled": false,
   "language": "python",
   "sourceType": "notebook"
  },
  "kernelspec": {
   "display_name": "Python 3",
   "language": "python",
   "name": "python3"
  },
  "language_info": {
   "codemirror_mode": {
    "name": "ipython",
    "version": 3
   },
   "file_extension": ".py",
   "mimetype": "text/x-python",
   "name": "python",
   "nbconvert_exporter": "python",
   "pygments_lexer": "ipython3",
   "version": "3.11.13"
  },
  "papermill": {
   "default_parameters": {},
   "duration": 8.980431,
   "end_time": "2025-07-25T06:24:14.297757",
   "environment_variables": {},
   "exception": null,
   "input_path": "__notebook__.ipynb",
   "output_path": "__notebook__.ipynb",
   "parameters": {},
   "start_time": "2025-07-25T06:24:05.317326",
   "version": "2.6.0"
  }
 },
 "nbformat": 4,
 "nbformat_minor": 5
}
